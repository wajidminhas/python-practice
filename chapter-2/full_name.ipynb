{
 "cells": [
  {
   "cell_type": "code",
   "execution_count": 1,
   "metadata": {},
   "outputs": [
    {
     "name": "stdout",
     "output_type": "stream",
     "text": [
      "ada lovelace\n"
     ]
    }
   ],
   "source": [
    "first_name:str = \"ada\"\n",
    "last_name:str = \"lovelace\"\n",
    "full_name:str = f\"{first_name} {last_name}\"\n",
    "print(full_name)"
   ]
  },
  {
   "cell_type": "code",
   "execution_count": 6,
   "metadata": {},
   "outputs": [
    {
     "name": "stdout",
     "output_type": "stream",
     "text": [
      "wajid khan and age is 20\n"
     ]
    }
   ],
   "source": [
    "fname:str = \"wajid\"\n",
    "lname:str = \"khan\"  \n",
    "age:int = 20\n",
    "full_name:str = f\"{fname} {lname} and age is {age}\"\n",
    "print(full_name)"
   ]
  },
  {
   "cell_type": "code",
   "execution_count": 7,
   "metadata": {},
   "outputs": [
    {
     "name": "stdout",
     "output_type": "stream",
     "text": [
      "sajid khan and age is 30\n"
     ]
    }
   ],
   "source": [
    "fname:str = \"sajid\"\n",
    "lname:str = \"khan\"\n",
    "age:int = 30\n",
    "full_name:str= f\"{fname} {lname} and age is {age}\"\n",
    "print(full_name)"
   ]
  }
 ],
 "metadata": {
  "kernelspec": {
   "display_name": "mine",
   "language": "python",
   "name": "python3"
  },
  "language_info": {
   "codemirror_mode": {
    "name": "ipython",
    "version": 3
   },
   "file_extension": ".py",
   "mimetype": "text/x-python",
   "name": "python",
   "nbconvert_exporter": "python",
   "pygments_lexer": "ipython3",
   "version": "3.12.1"
  }
 },
 "nbformat": 4,
 "nbformat_minor": 2
}
