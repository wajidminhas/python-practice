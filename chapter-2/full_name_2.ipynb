{
 "cells": [
  {
   "cell_type": "code",
   "execution_count": 1,
   "metadata": {},
   "outputs": [
    {
     "name": "stdout",
     "output_type": "stream",
     "text": [
      "Hello, Ada Lovelace!\n"
     ]
    }
   ],
   "source": [
    "first_name:str = \"ada\"\n",
    "last_name:str = \"lovelace\"\n",
    "full_name:str = f\"{first_name} {last_name}\"\n",
    "print(f\"Hello, {full_name.title()}!\")"
   ]
  },
  {
   "cell_type": "code",
   "execution_count": 2,
   "metadata": {},
   "outputs": [
    {
     "name": "stdout",
     "output_type": "stream",
     "text": [
      "hello, Wajid Shabbir\n"
     ]
    }
   ],
   "source": [
    "fname:str = \"wajid\"\n",
    "lname:str = \"shabbir\"\n",
    "full_name:str = f\"{fname} {lname}\"\n",
    "print(f\"hello, {full_name.title()}\")"
   ]
  },
  {
   "cell_type": "code",
   "execution_count": 3,
   "metadata": {},
   "outputs": [
    {
     "name": "stdout",
     "output_type": "stream",
     "text": [
      "hello: Mr Sajid Hussain Shabbir\n"
     ]
    }
   ],
   "source": [
    "fname:str = \"sajid\"\n",
    "middle_name:str = \"hussain\"\n",
    "lname:str = \"shabbir\"\n",
    "full_name:str = f\"{fname} {middle_name} {lname}\"\n",
    "print(f\"hello: Mr {full_name.title()}\")"
   ]
  },
  {
   "cell_type": "code",
   "execution_count": 4,
   "metadata": {},
   "outputs": [
    {
     "name": "stdout",
     "output_type": "stream",
     "text": [
      "hello: Mr Abbas Ali\n"
     ]
    }
   ],
   "source": [
    "fname:str = \"abbas\"\n",
    "lname:str = \"ali\"\n",
    "full_name:str = f\"{fname} {lname}\"\n",
    "print(f\"hello: Mr {full_name.title()}\")"
   ]
  }
 ],
 "metadata": {
  "kernelspec": {
   "display_name": "mine",
   "language": "python",
   "name": "python3"
  },
  "language_info": {
   "codemirror_mode": {
    "name": "ipython",
    "version": 3
   },
   "file_extension": ".py",
   "mimetype": "text/x-python",
   "name": "python",
   "nbconvert_exporter": "python",
   "pygments_lexer": "ipython3",
   "version": "3.12.1"
  }
 },
 "nbformat": 4,
 "nbformat_minor": 2
}
