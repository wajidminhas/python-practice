{
 "cells": [
  {
   "cell_type": "code",
   "execution_count": 8,
   "metadata": {},
   "outputs": [
    {
     "name": "stdout",
     "output_type": "stream",
     "text": [
      "John\n",
      "36\n",
      "37302\n",
      "abc@abc.com\n"
     ]
    }
   ],
   "source": [
    "class Person():\n",
    "    def __init__(self,name, age) -> None:\n",
    "        self.name = name\n",
    "        self.age = age\n",
    "\n",
    "class Id(Person):\n",
    "    def __init__(self, name, age, id) -> None:\n",
    "        super().__init__(name, age)\n",
    "        self.id = id\n",
    "\n",
    "class Email(Id):\n",
    "    def __init__(self, name, age, id, email) -> None:\n",
    "        super().__init__(name, age, id)\n",
    "        self.email = email\n",
    "\n",
    "p = Email(\"John\", 36, \"37302\", \"abc@abc.com\")\n",
    "print(p.name)\n",
    "print(p.age)\n",
    "print(p.id)\n",
    "print(p.email)"
   ]
  }
 ],
 "metadata": {
  "kernelspec": {
   "display_name": "mine",
   "language": "python",
   "name": "python3"
  },
  "language_info": {
   "codemirror_mode": {
    "name": "ipython",
    "version": 3
   },
   "file_extension": ".py",
   "mimetype": "text/x-python",
   "name": "python",
   "nbconvert_exporter": "python",
   "pygments_lexer": "ipython3",
   "version": "3.12.1"
  }
 },
 "nbformat": 4,
 "nbformat_minor": 2
}
