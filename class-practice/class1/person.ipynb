{
 "cells": [
  {
   "cell_type": "code",
   "execution_count": 8,
   "metadata": {},
   "outputs": [
    {
     "name": "stdout",
     "output_type": "stream",
     "text": [
      "John\n",
      "36\n",
      "37302\n",
      "abc@abc.com\n"
     ]
    }
   ],
   "source": [
    "class Person():\n",
    "    def __init__(self,name, age) -> None:\n",
    "        self.name = name\n",
    "        self.age = age\n",
    "\n",
    "class Id(Person):\n",
    "    def __init__(self, name, age, id) -> None:\n",
    "        super().__init__(name, age)\n",
    "        self.id = id\n",
    "\n",
    "class Email(Id):\n",
    "    def __init__(self, name, age, id, email) -> None:\n",
    "        super().__init__(name, age, id)\n",
    "        self.email = email\n",
    "\n",
    "p = Email(\"John\", 36, \"37302\", \"abc@abc.com\")\n",
    "print(p.name)\n",
    "print(p.age)\n",
    "print(p.id)\n",
    "print(p.email)\n"
   ]
  },
  {
   "cell_type": "code",
   "execution_count": 10,
   "metadata": {},
   "outputs": [
    {
     "name": "stdout",
     "output_type": "stream",
     "text": [
      "name='John' email='john@john.com' age=30 dob=datetime.date(2000, 12, 23) standard=<Standard.primary: 1>\n"
     ]
    },
    {
     "name": "stderr",
     "output_type": "stream",
     "text": [
      "C:\\Users\\Balaaj\\AppData\\Local\\Temp\\ipykernel_692\\4254145062.py:15: PydanticDeprecatedSince20: Pydantic V1 style `@validator` validators are deprecated. You should migrate to Pydantic V2 style `@field_validator` validators, see the migration guide for more details. Deprecated in Pydantic V2.0 to be removed in V3.0. See Pydantic V2 Migration Guide at https://errors.pydantic.dev/2.6/migration/\n",
      "  @validator(\"age\")\n"
     ]
    }
   ],
   "source": [
    "from pydantic import BaseModel, validator, EmailStr\n",
    "import datetime\n",
    "from enum import Enum\n",
    "\n",
    "class Standard(Enum):\n",
    "    primary = 1\n",
    "    secondary = 2\n",
    "\n",
    "class User(BaseModel):\n",
    "    name: str\n",
    "    email: EmailStr\n",
    "    age: int\n",
    "    dob : datetime.date\n",
    "    standard : Standard\n",
    "    @validator(\"age\")\n",
    "    def validate_age(cls, v, dob):\n",
    "        if v < 18:\n",
    "            raise ValueError(\"Age must be greater than 18\")\n",
    "        return v\n",
    "\n",
    "obj = User(name=\"John\", email=\"john@john.com\", age=30, dob=datetime.date(2000, 12, 23), standard=Standard.primary)\n",
    "print(obj)"
   ]
  }
 ],
 "metadata": {
  "kernelspec": {
   "display_name": "mine",
   "language": "python",
   "name": "python3"
  },
  "language_info": {
   "codemirror_mode": {
    "name": "ipython",
    "version": 3
   },
   "file_extension": ".py",
   "mimetype": "text/x-python",
   "name": "python",
   "nbconvert_exporter": "python",
   "pygments_lexer": "ipython3",
   "version": "3.12.1"
  }
 },
 "nbformat": 4,
 "nbformat_minor": 2
}
