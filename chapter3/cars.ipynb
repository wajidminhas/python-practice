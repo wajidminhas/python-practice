{
 "cells": [
  {
   "cell_type": "code",
   "execution_count": 1,
   "metadata": {},
   "outputs": [
    {
     "name": "stdout",
     "output_type": "stream",
     "text": [
      "['honda', 'toyota', 'kya', 'suzuki']\n"
     ]
    }
   ],
   "source": [
    "car:list[str] = [\"honda\", \"toyota\", \"kya\", \"suzuki\"]\n",
    "print(car)"
   ]
  },
  {
   "cell_type": "code",
   "execution_count": 2,
   "metadata": {},
   "outputs": [
    {
     "name": "stdout",
     "output_type": "stream",
     "text": [
      "['honda', 'toyota', 'kya', 'suzuki']\n",
      "['honda', 'kya', 'suzuki', 'toyota']\n"
     ]
    }
   ],
   "source": [
    "car:list[str] = [\"honda\", \"toyota\", \"kya\", \"suzuki\"]\n",
    "print(car)\n",
    "\n",
    "car.sort()\n",
    "print(car)"
   ]
  },
  {
   "cell_type": "code",
   "execution_count": 1,
   "metadata": {},
   "outputs": [
    {
     "name": "stdout",
     "output_type": "stream",
     "text": [
      "['honda', 'toyota', 'kya', 'suzuki']\n",
      "['toyota', 'suzuki', 'kya', 'honda']\n"
     ]
    }
   ],
   "source": [
    "car:list[str] = [\"honda\", \"toyota\", \"kya\", \"suzuki\"]\n",
    "print(car)\n",
    "\n",
    "car.sort(reverse=True)\n",
    "print(car)"
   ]
  },
  {
   "cell_type": "code",
   "execution_count": 3,
   "metadata": {},
   "outputs": [
    {
     "name": "stdout",
     "output_type": "stream",
     "text": [
      "['suzuki', 'kya', 'toyota', 'honda']\n"
     ]
    }
   ],
   "source": [
    "car:list[str] = [\"honda\", \"toyota\", \"kya\", \"suzuki\"]\n",
    "car.reverse()\n",
    "print(car)\n"
   ]
  }
 ],
 "metadata": {
  "kernelspec": {
   "display_name": "mine",
   "language": "python",
   "name": "python3"
  },
  "language_info": {
   "codemirror_mode": {
    "name": "ipython",
    "version": 3
   },
   "file_extension": ".py",
   "mimetype": "text/x-python",
   "name": "python",
   "nbconvert_exporter": "python",
   "pygments_lexer": "ipython3",
   "version": "3.12.1"
  }
 },
 "nbformat": 4,
 "nbformat_minor": 2
}
